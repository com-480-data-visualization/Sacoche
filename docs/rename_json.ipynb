{
 "cells": [
  {
   "cell_type": "code",
   "execution_count": 1,
   "id": "5f48eaf3",
   "metadata": {},
   "outputs": [],
   "source": [
    "import json"
   ]
  },
  {
   "cell_type": "code",
   "execution_count": 2,
   "id": "dcc27ec9",
   "metadata": {},
   "outputs": [],
   "source": [
    "def translate_levels(data):\n",
    "    \"\"\"\n",
    "    Traduit les noms de niveaux du français vers l'anglais dans les données de course\n",
    "    \"\"\"\n",
    "    # Dictionnaire de traduction\n",
    "    level_translation = {\n",
    "        'Débutant': 'Beginner',\n",
    "        'Intermédiaire': 'Intermediate', \n",
    "        'Avancé': 'Advanced',\n",
    "        'Elite': 'Elite'\n",
    "    }\n",
    "    \n",
    "    # Parcourir toutes les années\n",
    "    for year, year_data in data.items():\n",
    "        # Parcourir tous les segments de l'année\n",
    "        if 'segments' in year_data:\n",
    "            for segment in year_data['segments']:\n",
    "                # Traduire le niveau si il existe\n",
    "                if 'level' in segment and segment['level'] in level_translation:\n",
    "                    segment['level'] = level_translation[segment['level']]\n",
    "    \n",
    "    return data"
   ]
  },
  {
   "cell_type": "code",
   "execution_count": 3,
   "id": "a6da8776",
   "metadata": {},
   "outputs": [
    {
     "name": "stdout",
     "output_type": "stream",
     "text": [
      "Fichier stats_marathon_2015_2017.json chargé avec succès\n",
      "Traduction terminée. Fichier sauvegardé sous stats_marathon_2015_2017_2.json\n"
     ]
    }
   ],
   "source": [
    "\n",
    "\n",
    "# Nom du fichier JSON d'entrée et de sortie\n",
    "input_file = 'stats_marathon_2015_2017.json'  # Remplacez par le nom de votre fichier\n",
    "output_file = 'stats_marathon_2015_2017_2.json'\n",
    "\n",
    "try:\n",
    "    # Ouvrir et charger le fichier JSON\n",
    "    with open(input_file, 'r', encoding='utf-8') as f:\n",
    "        data = json.load(f)\n",
    "    \n",
    "    print(f\"Fichier {input_file} chargé avec succès\")\n",
    "    \n",
    "    # Appliquer la traduction\n",
    "    translated_data = translate_levels(data)\n",
    "    \n",
    "    # Sauvegarder le fichier traduit\n",
    "    with open(output_file, 'w', encoding='utf-8') as f:\n",
    "        json.dump(translated_data, f, indent=2, ensure_ascii=False)\n",
    "    \n",
    "    print(f\"Traduction terminée. Fichier sauvegardé sous {output_file}\")\n",
    "    \n",
    "except FileNotFoundError:\n",
    "    print(f\"Erreur : Le fichier {input_file} n'a pas été trouvé\")\n",
    "except json.JSONDecodeError:\n",
    "    print(f\"Erreur : Le fichier {input_file} n'est pas un JSON valide\")\n",
    "except Exception as e:\n",
    "    print(f\"Erreur inattendue : {e}\")"
   ]
  },
  {
   "cell_type": "code",
   "execution_count": null,
   "id": "fd592036",
   "metadata": {},
   "outputs": [],
   "source": []
  }
 ],
 "metadata": {
  "kernelspec": {
   "display_name": "base",
   "language": "python",
   "name": "python3"
  },
  "language_info": {
   "codemirror_mode": {
    "name": "ipython",
    "version": 3
   },
   "file_extension": ".py",
   "mimetype": "text/x-python",
   "name": "python",
   "nbconvert_exporter": "python",
   "pygments_lexer": "ipython3",
   "version": "3.12.3"
  }
 },
 "nbformat": 4,
 "nbformat_minor": 5
}
